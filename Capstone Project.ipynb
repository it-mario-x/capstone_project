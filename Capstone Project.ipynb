{
 "cells": [
  {
   "cell_type": "markdown",
   "id": "ebbb396c",
   "metadata": {},
   "source": [
    "# Capstone Project"
   ]
  },
  {
   "cell_type": "markdown",
   "id": "a5f445c7",
   "metadata": {},
   "source": [
    "### Purpose"
   ]
  },
  {
   "cell_type": "markdown",
   "id": "5050f965",
   "metadata": {},
   "source": [
    "We will investigate what are the factors that drive the good or bad performance of high school students."
   ]
  },
  {
   "cell_type": "code",
   "execution_count": 269,
   "id": "aa7468f3",
   "metadata": {},
   "outputs": [],
   "source": [
    "import pandas as pd\n",
    "import pandas as pd\n",
    "import numpy as np\n",
    "import matplotlib.pyplot as plt\n",
    "\n",
    "from sklearn.neighbors import KNeighborsRegressor\n",
    "from sklearn.impute import KNNImputer\n",
    "from sklearn.preprocessing import StandardScaler, OneHotEncoder\n",
    "from sklearn.neighbors import KNeighborsClassifier\n",
    "from sklearn.linear_model import LogisticRegression\n",
    "from sklearn.pipeline import Pipeline\n",
    "from sklearn.compose import make_column_transformer\n",
    "from sklearn.metrics import mean_squared_error, accuracy_score, recall_score, precision_score\n",
    "from sklearn.model_selection import train_test_split, GridSearchCV\n",
    "from sklearn.tree import DecisionTreeClassifier, export_text\n",
    "from sklearn import set_config\n",
    "from sklearn.svm import SVC\n",
    "from scipy.linalg import svd\n",
    "from random import shuffle, seed\n",
    "from sklearn.feature_selection import SequentialFeatureSelector\n",
    "from sklearn.linear_model import LinearRegression\n",
    "from sklearn.linear_model import Lasso\n",
    "from scipy.linalg import svd\n",
    "\n",
    "set_config(\"figure\")\n",
    "import warnings\n",
    "warnings.simplefilter(action='ignore', category=FutureWarning)"
   ]
  },
  {
   "cell_type": "code",
   "execution_count": 270,
   "id": "773c34a3",
   "metadata": {},
   "outputs": [],
   "source": [
    "df_stu = pd.read_excel('exams.xlsx')"
   ]
  },
  {
   "cell_type": "code",
   "execution_count": 271,
   "id": "ff79dc58",
   "metadata": {},
   "outputs": [
    {
     "data": {
      "text/html": [
       "<div>\n",
       "<style scoped>\n",
       "    .dataframe tbody tr th:only-of-type {\n",
       "        vertical-align: middle;\n",
       "    }\n",
       "\n",
       "    .dataframe tbody tr th {\n",
       "        vertical-align: top;\n",
       "    }\n",
       "\n",
       "    .dataframe thead th {\n",
       "        text-align: right;\n",
       "    }\n",
       "</style>\n",
       "<table border=\"1\" class=\"dataframe\">\n",
       "  <thead>\n",
       "    <tr style=\"text-align: right;\">\n",
       "      <th></th>\n",
       "      <th>gender</th>\n",
       "      <th>race/ethnicity</th>\n",
       "      <th>parental level of education</th>\n",
       "      <th>lunch</th>\n",
       "      <th>test preparation course</th>\n",
       "      <th>math score</th>\n",
       "      <th>reading score</th>\n",
       "      <th>writing score</th>\n",
       "    </tr>\n",
       "  </thead>\n",
       "  <tbody>\n",
       "    <tr>\n",
       "      <th>0</th>\n",
       "      <td>female</td>\n",
       "      <td>group D</td>\n",
       "      <td>some college</td>\n",
       "      <td>standard</td>\n",
       "      <td>completed</td>\n",
       "      <td>59</td>\n",
       "      <td>70</td>\n",
       "      <td>78</td>\n",
       "    </tr>\n",
       "    <tr>\n",
       "      <th>1</th>\n",
       "      <td>male</td>\n",
       "      <td>group D</td>\n",
       "      <td>associate's degree</td>\n",
       "      <td>standard</td>\n",
       "      <td>none</td>\n",
       "      <td>96</td>\n",
       "      <td>93</td>\n",
       "      <td>87</td>\n",
       "    </tr>\n",
       "    <tr>\n",
       "      <th>2</th>\n",
       "      <td>female</td>\n",
       "      <td>group D</td>\n",
       "      <td>some college</td>\n",
       "      <td>free/reduced</td>\n",
       "      <td>none</td>\n",
       "      <td>57</td>\n",
       "      <td>76</td>\n",
       "      <td>77</td>\n",
       "    </tr>\n",
       "    <tr>\n",
       "      <th>3</th>\n",
       "      <td>male</td>\n",
       "      <td>group B</td>\n",
       "      <td>some college</td>\n",
       "      <td>free/reduced</td>\n",
       "      <td>none</td>\n",
       "      <td>70</td>\n",
       "      <td>70</td>\n",
       "      <td>63</td>\n",
       "    </tr>\n",
       "    <tr>\n",
       "      <th>4</th>\n",
       "      <td>female</td>\n",
       "      <td>group D</td>\n",
       "      <td>associate's degree</td>\n",
       "      <td>standard</td>\n",
       "      <td>none</td>\n",
       "      <td>83</td>\n",
       "      <td>85</td>\n",
       "      <td>86</td>\n",
       "    </tr>\n",
       "  </tbody>\n",
       "</table>\n",
       "</div>"
      ],
      "text/plain": [
       "   gender race/ethnicity parental level of education         lunch  \\\n",
       "0  female        group D                some college      standard   \n",
       "1    male        group D          associate's degree      standard   \n",
       "2  female        group D                some college  free/reduced   \n",
       "3    male        group B                some college  free/reduced   \n",
       "4  female        group D          associate's degree      standard   \n",
       "\n",
       "  test preparation course  math score  reading score  writing score  \n",
       "0               completed          59             70             78  \n",
       "1                    none          96             93             87  \n",
       "2                    none          57             76             77  \n",
       "3                    none          70             70             63  \n",
       "4                    none          83             85             86  "
      ]
     },
     "execution_count": 271,
     "metadata": {},
     "output_type": "execute_result"
    }
   ],
   "source": [
    "df_stu.head()"
   ]
  },
  {
   "cell_type": "code",
   "execution_count": 333,
   "id": "a5e74251",
   "metadata": {},
   "outputs": [
    {
     "name": "stdout",
     "output_type": "stream",
     "text": [
      "<class 'pandas.core.frame.DataFrame'>\n",
      "RangeIndex: 1000 entries, 0 to 999\n",
      "Data columns (total 8 columns):\n",
      " #   Column                       Non-Null Count  Dtype \n",
      "---  ------                       --------------  ----- \n",
      " 0   gender                       1000 non-null   object\n",
      " 1   race/ethnicity               1000 non-null   object\n",
      " 2   parental level of education  1000 non-null   object\n",
      " 3   lunch                        1000 non-null   object\n",
      " 4   test preparation course      1000 non-null   object\n",
      " 5   math score                   1000 non-null   int64 \n",
      " 6   reading score                1000 non-null   int64 \n",
      " 7   writing score                1000 non-null   int64 \n",
      "dtypes: int64(3), object(5)\n",
      "memory usage: 62.6+ KB\n"
     ]
    }
   ],
   "source": [
    "df_stu.info()"
   ]
  },
  {
   "cell_type": "code",
   "execution_count": 334,
   "id": "68ea1b9c",
   "metadata": {},
   "outputs": [
    {
     "data": {
      "text/plain": [
       "gender                         0\n",
       "race/ethnicity                 0\n",
       "parental level of education    0\n",
       "lunch                          0\n",
       "test preparation course        0\n",
       "math score                     0\n",
       "reading score                  0\n",
       "writing score                  0\n",
       "dtype: int64"
      ]
     },
     "execution_count": 334,
     "metadata": {},
     "output_type": "execute_result"
    }
   ],
   "source": [
    "df_stu.isna().sum()"
   ]
  },
  {
   "cell_type": "markdown",
   "id": "a12d8b4e",
   "metadata": {},
   "source": [
    "We observe that there is no null values nor nan values. We can then work with this data set."
   ]
  },
  {
   "cell_type": "markdown",
   "id": "313f1a7c",
   "metadata": {},
   "source": [
    "As a first exploration of the data, we will plot some figures to know the different values taken by each feature."
   ]
  },
  {
   "cell_type": "markdown",
   "id": "8a65309f",
   "metadata": {},
   "source": [
    "### Proportion of male and female"
   ]
  },
  {
   "cell_type": "code",
   "execution_count": 335,
   "id": "d6c71bb3",
   "metadata": {},
   "outputs": [
    {
     "data": {
      "image/png": "[encoded data removed]",
      "text/plain": [
       "<Figure size 432x288 with 1 Axes>"
      ]
     },
     "metadata": {
      "needs_background": "light"
     },
     "output_type": "display_data"
    }
   ],
   "source": [
    "gen_count = df_stu['gender'].value_counts()\n",
    "barplot = plt.bar(x=gen_count.index, \n",
    "                  height=gen_count.values, \n",
    "                  width=0.3, color=['pink','green'])\n",
    "plt.bar_label(barplot,\n",
    "              labels=[gen_count.values[0],\n",
    "                      gen_count.values[1]\n",
    "                      ],\n",
    "              label_type='edge')\n",
    "plt.title('Number of students by gender', fontdict={'fontsize':20})\n",
    "plt.ylabel('Count', size=15)\n",
    "plt.xlabel('Gender', size=15);"
   ]
  },
  {
   "cell_type": "code",
   "execution_count": 336,
   "id": "8580d9b2",
   "metadata": {},
   "outputs": [
    {
     "data": {
      "text/html": [
       "<div>\n",
       "<style scoped>\n",
       "    .dataframe tbody tr th:only-of-type {\n",
       "        vertical-align: middle;\n",
       "    }\n",
       "\n",
       "    .dataframe tbody tr th {\n",
       "        vertical-align: top;\n",
       "    }\n",
       "\n",
       "    .dataframe thead th {\n",
       "        text-align: right;\n",
       "    }\n",
       "</style>\n",
       "<table border=\"1\" class=\"dataframe\">\n",
       "  <thead>\n",
       "    <tr style=\"text-align: right;\">\n",
       "      <th></th>\n",
       "      <th>math score</th>\n",
       "      <th>reading score</th>\n",
       "      <th>writing score</th>\n",
       "    </tr>\n",
       "    <tr>\n",
       "      <th>gender</th>\n",
       "      <th></th>\n",
       "      <th></th>\n",
       "      <th></th>\n",
       "    </tr>\n",
       "  </thead>\n",
       "  <tbody>\n",
       "    <tr>\n",
       "      <th>female</th>\n",
       "      <td>31869</td>\n",
       "      <td>36149</td>\n",
       "      <td>36132</td>\n",
       "    </tr>\n",
       "    <tr>\n",
       "      <th>male</th>\n",
       "      <td>35941</td>\n",
       "      <td>34233</td>\n",
       "      <td>33008</td>\n",
       "    </tr>\n",
       "  </tbody>\n",
       "</table>\n",
       "</div>"
      ],
      "text/plain": [
       "        math score  reading score  writing score\n",
       "gender                                          \n",
       "female       31869          36149          36132\n",
       "male         35941          34233          33008"
      ]
     },
     "execution_count": 336,
     "metadata": {},
     "output_type": "execute_result"
    }
   ],
   "source": [
    "df_stu.groupby(['gender']).sum()"
   ]
  },
  {
   "cell_type": "code",
   "execution_count": 337,
   "id": "2990605d",
   "metadata": {},
   "outputs": [
    {
     "data": {
      "image/png": "[encoded data removed]",
      "text/plain": [
       "<Figure size 432x288 with 1 Axes>"
      ]
     },
     "metadata": {
      "needs_background": "light"
     },
     "output_type": "display_data"
    }
   ],
   "source": [
    "lunch_count = df_stu['lunch'].value_counts()\n",
    "bar_lunch_plot = plt.bar(x=lunch_count.index,\n",
    "                         height=lunch_count.values,\n",
    "                         width=0.3, color=['yellow','orange'])\n",
    "plt.bar_label(bar_lunch_plot,\n",
    "              labels=[lunch_count.values[0],\n",
    "                      lunch_count.values[1]\n",
    "                      ],\n",
    "              label_type='edge')\n",
    "plt.title('Number of types of lunch', fontdict={'fontsize':20})\n",
    "plt.ylabel('Count', size=15)\n",
    "plt.xlabel('Type of lunch', size=15);"
   ]
  },
  {
   "cell_type": "code",
   "execution_count": 338,
   "id": "1993c151",
   "metadata": {},
   "outputs": [
    {
     "data": {
      "image/png": "[encoded data removed]",
      "text/plain": [
       "<Figure size 432x288 with 1 Axes>"
      ]
     },
     "metadata": {
      "needs_background": "light"
     },
     "output_type": "display_data"
    }
   ],
   "source": [
    "eth_count = df_stu['race/ethnicity'].value_counts().sort_index()\n",
    "bar_eth_plot = plt.bar(x=eth_count.index,\n",
    "                         height=eth_count.values,\n",
    "                         width=0.3, color=['pink', 'blue', 'gray', 'yellow','orange'])\n",
    "plt.bar_label(bar_eth_plot,\n",
    "              labels=[eth_count.values[0],\n",
    "                      eth_count.values[1],\n",
    "                      eth_count.values[2],\n",
    "                      eth_count.values[3],\n",
    "                      eth_count.values[4]\n",
    "                      ],\n",
    "              label_type='edge')\n",
    "plt.title('Number of student by ethnicity', fontdict={'fontsize':20})\n",
    "plt.ylabel('Count', size=15)\n",
    "plt.xlabel('Ethnicity', size=15);"
   ]
  },
  {
   "attachments": {},
   "cell_type": "markdown",
   "id": "b5e046a8",
   "metadata": {},
   "source": [
    "#### Parental level of education"
   ]
  },
  {
   "cell_type": "code",
   "execution_count": 339,
   "id": "1fd35e38",
   "metadata": {},
   "outputs": [
    {
     "data": {
      "image/png": "[encoded data removed]",
      "text/plain": [
       "<Figure size 432x288 with 1 Axes>"
      ]
     },
     "metadata": {
      "needs_background": "light"
     },
     "output_type": "display_data"
    }
   ],
   "source": [
    "parlev_count = df_stu['parental level of education'].value_counts().sort_index()\n",
    "bar_par_plot = plt.bar(x=parlev_count.index,\n",
    "                         height=parlev_count.values,\n",
    "                         width=0.3, color=['red', 'cyan', 'gray', 'black','yellow'])\n",
    "plt.bar_label(bar_par_plot,\n",
    "              labels=[parlev_count.values[0],\n",
    "                      parlev_count.values[1],\n",
    "                      parlev_count.values[2],\n",
    "                      parlev_count.values[3],\n",
    "                      parlev_count.values[4],\n",
    "                      parlev_count.values[5]\n",
    "                      ],\n",
    "              label_type='edge')\n",
    "plt.xticks(rotation=45);\n",
    "\n",
    "plt.title('Number of parents by their level of education', fontdict={'fontsize':20})\n",
    "plt.ylabel('Count', size=15)\n",
    "plt.xlabel('Parent\\'s Level of Education', size=15);"
   ]
  },
  {
   "cell_type": "markdown",
   "id": "5f355afe",
   "metadata": {},
   "source": [
    "#### Test preparation course"
   ]
  },
  {
   "cell_type": "code",
   "execution_count": 340,
   "id": "68c0f03c",
   "metadata": {},
   "outputs": [
    {
     "data": {
      "image/png": "[encoded data removed]",
      "text/plain": [
       "<Figure size 432x288 with 1 Axes>"
      ]
     },
     "metadata": {
      "needs_background": "light"
     },
     "output_type": "display_data"
    }
   ],
   "source": [
    "prep_count = df_stu['test preparation course'].value_counts().sort_index()\n",
    "bar_par_plot = plt.bar(x=prep_count.index,\n",
    "                         height=prep_count.values,\n",
    "                         width=0.3, color=['green', 'red'])\n",
    "plt.bar_label(bar_par_plot,\n",
    "              labels=[prep_count.values[0],\n",
    "                      prep_count.values[1]\n",
    "                      ],\n",
    "              label_type='edge')\n",
    "\n",
    "plt.title('Number of students having completed a testpreparation course', fontdict={'fontsize':20})\n",
    "plt.ylabel('Count', size=15)\n",
    "plt.xlabel('Parent\\'s Level of Education', size=15);"
   ]
  },
  {
   "cell_type": "raw",
   "id": "1c8cbcb2",
   "metadata": {},
   "source": [
    "In order to train our model, we will split our dataset in 2: Train and test set.\n",
    "We will let all default values, that is, the split will be of 0.25 for the test size"
   ]
  },
  {
   "cell_type": "markdown",
   "id": "ecfa48e0",
   "metadata": {},
   "source": [
    "## Train set and test set"
   ]
  },
  {
   "cell_type": "markdown",
   "id": "bc3e1de9",
   "metadata": {},
   "source": [
    "Our target feature will be the math score."
   ]
  },
  {
   "cell_type": "code",
   "execution_count": 341,
   "id": "14c450ec",
   "metadata": {},
   "outputs": [],
   "source": [
    "X = df_stu.drop(columns=['math score','reading score','writing score'], axis = 1)\n",
    "y = df_stu['math score']"
   ]
  },
  {
   "cell_type": "code",
   "execution_count": 342,
   "id": "ff4ab3d0",
   "metadata": {},
   "outputs": [],
   "source": [
    "X_train, X_test, y_train, y_test = train_test_split(X, y, random_state=42)"
   ]
  },
  {
   "cell_type": "markdown",
   "id": "817bba11",
   "metadata": {},
   "source": [
    "Since our features are categorical, we will use a make_column_transformer "
   ]
  },
  {
   "cell_type": "code",
   "execution_count": 343,
   "id": "ac146b9c",
   "metadata": {},
   "outputs": [],
   "source": [
    "transformer = make_column_transformer((OneHotEncoder(drop = 'if_binary'), \n",
    "                                       ['gender','lunch','race/ethnicity','parental level of education','test preparation course']\n",
    "                                      ))"
   ]
  },
  {
   "cell_type": "markdown",
   "id": "22fb2c35",
   "metadata": {},
   "source": [
    "### Identification of Important Factors"
   ]
  },
  {
   "cell_type": "markdown",
   "id": "f2dcfdf2",
   "metadata": {},
   "source": [
    "In order to know which factors are determinant, we will make a Sequential Feature Selection combined with a Lasso Regression. "
   ]
  },
  {
   "cell_type": "code",
   "execution_count": 344,
   "id": "647d0a23",
   "metadata": {},
   "outputs": [],
   "source": [
    "selector = SequentialFeatureSelector(estimator=Lasso(),\n",
    "                                     scoring = 'neg_mean_squared_error')"
   ]
  },
  {
   "cell_type": "code",
   "execution_count": 345,
   "id": "2478a443",
   "metadata": {},
   "outputs": [],
   "source": [
    "seq_pipe = Pipeline([('transformer',transformer),\n",
    "                     ('column_selector', selector),\n",
    "                     ('lasso', Lasso())\n",
    "                    ])"
   ]
  },
  {
   "cell_type": "markdown",
   "id": "6c8d7d48",
   "metadata": {},
   "source": [
    "Then we use a GridSearchCV to know which number of features is the best :"
   ]
  },
  {
   "cell_type": "code",
   "execution_count": 346,
   "id": "70d4a24e",
   "metadata": {},
   "outputs": [],
   "source": [
    "params_dict = {'column_selector__n_features_to_select': [1,2,3,4,5]}"
   ]
  },
  {
   "cell_type": "code",
   "execution_count": 347,
   "id": "e961eec1",
   "metadata": {},
   "outputs": [],
   "source": [
    "seq_grid = GridSearchCV(seq_pipe, \n",
    "                        param_grid=params_dict)"
   ]
  },
  {
   "cell_type": "code",
   "execution_count": 348,
   "id": "3eeed3b4",
   "metadata": {},
   "outputs": [
    {
     "data": {
      "text/plain": [
       "GridSearchCV(estimator=Pipeline(steps=[('transformer',\n",
       "                                        ColumnTransformer(transformers=[('onehotencoder',\n",
       "                                                                         OneHotEncoder(drop='if_binary'),\n",
       "                                                                         ['gender',\n",
       "                                                                          'lunch',\n",
       "                                                                          'race/ethnicity',\n",
       "                                                                          'parental '\n",
       "                                                                          'level '\n",
       "                                                                          'of '\n",
       "                                                                          'education',\n",
       "                                                                          'test '\n",
       "                                                                          'preparation '\n",
       "                                                                          'course'])])),\n",
       "                                       ('column_selector',\n",
       "                                        SequentialFeatureSelector(estimator=Lasso(),\n",
       "                                                                  scoring='neg_mean_squared_error')),\n",
       "                                       ('lasso', Lasso())]),\n",
       "             param_grid={'column_selector__n_features_to_select': [1, 2, 3, 4,\n",
       "                                                                   5]})"
      ]
     },
     "execution_count": 348,
     "metadata": {},
     "output_type": "execute_result"
    }
   ],
   "source": [
    "seq_grid.fit(X_train, y_train)"
   ]
  },
  {
   "cell_type": "markdown",
   "id": "411625e4",
   "metadata": {},
   "source": [
    "We will check now which columns have been selected by our model."
   ]
  },
  {
   "cell_type": "code",
   "execution_count": 349,
   "id": "f89e630b",
   "metadata": {},
   "outputs": [
    {
     "data": {
      "text/plain": [
       "array([ True,  True, False, False, False, False,  True, False, False,\n",
       "       False, False, False, False,  True])"
      ]
     },
     "execution_count": 349,
     "metadata": {},
     "output_type": "execute_result"
    }
   ],
   "source": [
    "seq_grid.best_estimator_.named_steps['column_selector'].get_support()"
   ]
  },
  {
   "cell_type": "markdown",
   "id": "23e3140f",
   "metadata": {},
   "source": [
    "And we check the parameters of our best model."
   ]
  },
  {
   "cell_type": "code",
   "execution_count": 350,
   "id": "bcfcfcb3",
   "metadata": {},
   "outputs": [
    {
     "data": {
      "text/plain": [
       "{'cv': 5,\n",
       " 'direction': 'forward',\n",
       " 'estimator__alpha': 1.0,\n",
       " 'estimator__copy_X': True,\n",
       " 'estimator__fit_intercept': True,\n",
       " 'estimator__max_iter': 1000,\n",
       " 'estimator__normalize': False,\n",
       " 'estimator__positive': False,\n",
       " 'estimator__precompute': False,\n",
       " 'estimator__random_state': None,\n",
       " 'estimator__selection': 'cyclic',\n",
       " 'estimator__tol': 0.0001,\n",
       " 'estimator__warm_start': False,\n",
       " 'estimator': Lasso(),\n",
       " 'n_features_to_select': 4,\n",
       " 'n_jobs': None,\n",
       " 'scoring': 'neg_mean_squared_error'}"
      ]
     },
     "execution_count": 350,
     "metadata": {},
     "output_type": "execute_result"
    }
   ],
   "source": [
    "seq_grid.best_estimator_.named_steps['column_selector'].get_params()"
   ]
  },
  {
   "cell_type": "markdown",
   "id": "1ddc759f",
   "metadata": {},
   "source": [
    "We also have a look in the importance of each factor."
   ]
  },
  {
   "cell_type": "code",
   "execution_count": 351,
   "id": "62432c95",
   "metadata": {},
   "outputs": [
    {
     "data": {
      "text/plain": [
       "array([ 1.2039601 ,  7.88873017,  2.85575692, -0.41817617])"
      ]
     },
     "execution_count": 351,
     "metadata": {},
     "output_type": "execute_result"
    }
   ],
   "source": [
    "seq_grid.best_estimator_.named_steps['lasso'].coef_"
   ]
  },
  {
   "cell_type": "markdown",
   "id": "297e9b48",
   "metadata": {},
   "source": [
    "#### Performances"
   ]
  },
  {
   "cell_type": "code",
   "execution_count": 352,
   "id": "76f443e4",
   "metadata": {},
   "outputs": [],
   "source": [
    "train_preds = seq_grid.predict(X_train)\n",
    "test_preds = seq_grid.predict(X_test)\n",
    "\n",
    "train_mse = mean_squared_error(y_train, train_preds)\n",
    "test_mse = mean_squared_error(y_test, test_preds)"
   ]
  },
  {
   "cell_type": "code",
   "execution_count": 353,
   "id": "ac12d17f",
   "metadata": {},
   "outputs": [
    {
     "name": "stdout",
     "output_type": "stream",
     "text": [
      "train mse =  196.77712783865192\n",
      "test mse =  182.46517590920982\n"
     ]
    }
   ],
   "source": [
    "print('train mse = ',train_mse)\n",
    "print('test mse = ',test_mse)"
   ]
  },
  {
   "cell_type": "markdown",
   "id": "b4d0627c",
   "metadata": {},
   "source": [
    "#### Conclusions"
   ]
  },
  {
   "cell_type": "markdown",
   "id": "5977aebe",
   "metadata": {},
   "source": [
    "The factors that, according to our model, can explain the good or bad performance in maths are, by deacreasing order of importance:\n",
    "\n",
    "- lunch\n",
    "- group E\n",
    "- gender\n",
    "- Parent's level of education\n",
    "\n",
    "This can help to understand why it is important to have students with a good diet."
   ]
  },
  {
   "cell_type": "code",
   "execution_count": null,
   "id": "43ce8e2d",
   "metadata": {},
   "outputs": [],
   "source": []
  }
 ],
 "metadata": {
  "kernelspec": {
   "display_name": "Python 3 (ipykernel)",
   "language": "python",
   "name": "python3"
  },
  "language_info": {
   "codemirror_mode": {
    "name": "ipython",
    "version": 3
   },
   "file_extension": ".py",
   "mimetype": "text/x-python",
   "name": "python",
   "nbconvert_exporter": "python",
   "pygments_lexer": "ipython3",
   "version": "3.9.7"
  }
 },
 "nbformat": 4,
 "nbformat_minor": 5
}
